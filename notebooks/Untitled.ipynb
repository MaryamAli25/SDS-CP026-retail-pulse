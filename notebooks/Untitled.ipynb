{
 "cells": [
  {
   "cell_type": "code",
   "execution_count": 7,
   "id": "d1ccbdce-887d-4b8f-87d1-42bfb3a0247a",
   "metadata": {},
   "outputs": [
    {
     "name": "stdout",
     "output_type": "stream",
     "text": [
      "Dataset Unzipped Sucessfully!\n"
     ]
    }
   ],
   "source": [
    "# Retail Pulse Project - Step 1: Unzipping DataSet\n",
    "\n",
    "import zipfile\n",
    "import os\n",
    "\n",
    "zip_file_path = \"C:\\\\Users\\\\marya\\\\OneDrive\\\\Desktop\\\\RetailPulse_Project\\\\data\\\\archive.zip\"\n",
    "extract_path = \"C:\\\\Users\\\\marya\\\\OneDrive\\\\Desktop\\\\RetailPulse_Project\\\\data\"\n",
    "\n",
    "with zipfile.ZipFile(zip_file_path, 'r') as zip_ref:\n",
    "    zip_ref.extractall(extract_path)\n",
    "\n",
    "print(\"Dataset Unzipped Sucessfully!\")"
   ]
  },
  {
   "cell_type": "code",
   "execution_count": null,
   "id": "3e5ada31-6b6b-4a65-9380-52fa06707365",
   "metadata": {},
   "outputs": [],
   "source": []
  }
 ],
 "metadata": {
  "kernelspec": {
   "display_name": "Python 3 (ipykernel)",
   "language": "python",
   "name": "python3"
  },
  "language_info": {
   "codemirror_mode": {
    "name": "ipython",
    "version": 3
   },
   "file_extension": ".py",
   "mimetype": "text/x-python",
   "name": "python",
   "nbconvert_exporter": "python",
   "pygments_lexer": "ipython3",
   "version": "3.12.7"
  }
 },
 "nbformat": 4,
 "nbformat_minor": 5
}
